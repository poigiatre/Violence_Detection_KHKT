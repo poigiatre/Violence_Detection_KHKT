{
  "nbformat": 4,
  "nbformat_minor": 0,
  "metadata": {
    "colab": {
      "name": "EvalMachineVioDetect.ipynb",
      "provenance": [],
      "collapsed_sections": []
    },
    "kernelspec": {
      "name": "python3",
      "display_name": "Python 3"
    },
    "language_info": {
      "name": "python"
    },
    "accelerator": "GPU"
  },
  "cells": [
    {
      "cell_type": "code",
      "execution_count": null,
      "metadata": {
        "id": "fzaL31GHK3NG"
      },
      "outputs": [],
      "source": [
        "import tensorflow as tf\n",
        "from tensorflow import keras\n",
        "import numpy as np\n",
        "import cv2\n",
        "import h5py"
      ]
    },
    {
      "cell_type": "code",
      "source": [
        "gpu_devices = tf.config.list_physical_devices('GPU')\n",
        "for device in gpu_devices: tf.config.experimental.set_memory_growth(device, True)"
      ],
      "metadata": {
        "id": "99fgO_OPWbnm"
      },
      "execution_count": null,
      "outputs": []
    },
    {
      "cell_type": "code",
      "source": [
        "with h5py.File(\"/content/drive/MyDrive/database/val2_dataset.h5\", 'r') as h5:\n",
        "    X = h5['data_full'][:300][:]\n",
        "    y = h5['label_full'][:300][:]"
      ],
      "metadata": {
        "id": "oMyUALDsLRO3"
      },
      "execution_count": null,
      "outputs": []
    },
    {
      "cell_type": "code",
      "source": [
        "from sklearn.model_selection import train_test_split\n",
        "X, X_test, y, y_test = train_test_split(X, y, test_size=0.1, random_state=78)\n",
        "utils = tf.keras.utils\n",
        "y = utils.to_categorical(y)"
      ],
      "metadata": {
        "id": "NIQ34qaAMmL3"
      },
      "execution_count": null,
      "outputs": []
    },
    {
      "cell_type": "code",
      "source": [
        "#model = keras.models.load_model('/content/drive/MyDrive/Trained Model/resNet50.hdfs')\n",
        "#adam = keras.optimizers.Adam(learning_rate=0.0005, beta_1=0.9, beta_2=0.999, epsilon=1e-08)\n",
        "#rms = keras.optimizers.RMSprop()\n",
        "#model.compile(loss='binary_crossentropy', optimizer=adam, metrics=[\"accuracy\"])"
      ],
      "metadata": {
        "id": "mp18KJO0NDFG"
      },
      "execution_count": null,
      "outputs": []
    },
    {
      "cell_type": "code",
      "source": [
        "def create_model():\n",
        "    np.random.seed(1234)\n",
        "    num_classes = 2\n",
        "    #base_model = keras.applications.resnet50.ResNet50(include_top=False, weights='imagenet', input_shape=(160, 160,3))\n",
        "    base_model = keras.applications.VGG19(include_top=False, weights='imagenet', input_shape=(160, 160,3))\n",
        "    #for layer in base_model.layers:\n",
        "    #    layer.trainable = False\n",
        "    cnn = keras.models.Sequential()\n",
        "    cnn.add(base_model)\n",
        "    cnn.add(keras.layers.Flatten())\n",
        "    model = keras.models.Sequential()\n",
        "    timedistriLay = keras.layers.TimeDistributed(cnn,  input_shape=(30, 160, 160, 3))\n",
        "    model.add(timedistriLay)\n",
        "    model.add(keras.layers.LSTM(30 , return_sequences= True))\n",
        "    model.add(keras.layers.TimeDistributed(keras.layers.Dense(90)))\n",
        "    model.add(keras.layers.Dropout(0.1))\n",
        "    model.add(keras.layers.GlobalAveragePooling1D())\n",
        "    #model.add(keras.layers.Dense(1024, activation='gelu'))\n",
        "    #model.add(keras.layers.Dropout(0.3))\n",
        "    model.add(keras.layers.Dense(512, activation='gelu'))\n",
        "    model.add(keras.layers.Dropout(0.3))\n",
        "    model.add(keras.layers.Dense(num_classes, activation=\"sigmoid\"))\n",
        "    adam = keras.optimizers.Adam(learning_rate=0.0005, beta_1=0.9, beta_2=0.999, epsilon=1e-08)\n",
        "    #model.load_weights('/content/drive/MyDrive/Trained Model/VGG19_3.hdf5')\n",
        "    rms = keras.optimizers.RMSprop()\n",
        "    model.compile(loss='binary_crossentropy', optimizer=adam, metrics=[\"accuracy\"])\n",
        "    return model"
      ],
      "metadata": {
        "id": "iVpESkgjGt0V"
      },
      "execution_count": null,
      "outputs": []
    },
    {
      "cell_type": "code",
      "source": [
        "y.shape"
      ],
      "metadata": {
        "id": "4ET-qGJdCQ9B"
      },
      "execution_count": null,
      "outputs": []
    },
    {
      "cell_type": "code",
      "source": [
        "model = create_model()\n",
        "model.summary()"
      ],
      "metadata": {
        "id": "s7chnzG1CAAy"
      },
      "execution_count": null,
      "outputs": []
    },
    {
      "cell_type": "code",
      "source": [
        "results = model.evaluate(X,y,batch_size = 12)\n",
        "print(\"test loss, test acc:\", results)"
      ],
      "metadata": {
        "id": "K3tANVi-NcZd"
      },
      "execution_count": null,
      "outputs": []
    },
    {
      "cell_type": "code",
      "source": [
        "X2 = np.zeros((1, 30, 160, 160, 3), dtype= 'float16')\n",
        "X2[0][:] = X[0][:]\n",
        "print(model.predict(X2))"
      ],
      "metadata": {
        "id": "CIgNWZWjY3I9"
      },
      "execution_count": null,
      "outputs": []
    },
    {
      "cell_type": "code",
      "source": [
        "y[0]"
      ],
      "metadata": {
        "id": "w4wauVUXZu1u"
      },
      "execution_count": null,
      "outputs": []
    },
    {
      "cell_type": "code",
      "source": [
        "yy = 2*[1] + 2*[0]\n",
        "yy = utils.to_categorical(yy)\n",
        "print(yy)"
      ],
      "metadata": {
        "id": "PKJSJ5ENbIee"
      },
      "execution_count": null,
      "outputs": []
    },
    {
      "cell_type": "code",
      "source": [
        "import os\n",
        "from skimage.transform import resize\n",
        "frames = np.zeros((30, 160, 160, 3), dtype = 'float16')\n",
        "i = 0\n",
        "cap = cv2.VideoCapture('/content/drive/MyDrive/database/N_50.mp4')\n",
        "if cap.isOpened():\n",
        "    grabbed, frame = cap.read()\n",
        "else:\n",
        "    grabbed = False\n",
        "    print(\"fail\")\n",
        "frm = resize(frame,(160, 160, 3))\n",
        "frm = np.expand_dims(frm,axis=0)\n",
        "if(np.max(frm)>1):\n",
        "    frm = frm/255.0\n",
        "frames[i][:] = frm\n",
        "i += 1\n",
        "while i < 30:\n",
        "    grabbed, frame = cap.read()\n",
        "    frm = resize(frame,(160, 160, 3))\n",
        "    frm = np.expand_dims(frm,axis=0)\n",
        "    if(np.max(frm)>1):\n",
        "        frm = frm/255.0\n",
        "    frames[i][:] = frm\n",
        "    i += 1\n",
        "X2 = np.zeros((1, 30, 160, 160, 3), dtype= 'float16')\n",
        "X2[0][:] = frames"
      ],
      "metadata": {
        "id": "IyvKg6XUdM_w"
      },
      "execution_count": null,
      "outputs": []
    },
    {
      "cell_type": "code",
      "source": [
        "print(model.predict(X2))"
      ],
      "metadata": {
        "id": "5IDqLai4whOb"
      },
      "execution_count": null,
      "outputs": []
    }
  ]
}