{
  "nbformat": 4,
  "nbformat_minor": 0,
  "metadata": {
    "colab": {
      "name": "Process_video_to_dataset.ipynb",
      "provenance": [],
      "collapsed_sections": []
    },
    "kernelspec": {
      "name": "python3",
      "display_name": "Python 3"
    },
    "language_info": {
      "name": "python"
    }
  },
  "cells": [
    {
      "cell_type": "markdown",
      "metadata": {
        "id": "usd_FrLa-n7a"
      },
      "source": [
        "# **Library and stuff**"
      ]
    },
    {
      "cell_type": "code",
      "metadata": {
        "id": "x8oDDpz_-hWK"
      },
      "source": [
        "import os\n",
        "import numpy as np\n",
        "import matplotlib.pyplot as plt\n",
        "from tqdm import tqdm\n",
        "#!pip install cv2\n",
        "import cv2 # read video file\n",
        "from skimage.transform import resize # resizing images\n",
        "import h5py\n",
        "from  google.colab import drive\n",
        "#drive.mount('/content/drive')\n",
        "!free -mh"
      ],
      "execution_count": null,
      "outputs": []
    },
    {
      "cell_type": "code",
      "metadata": {
        "id": "gvC6ucnIU_6D"
      },
      "source": [
        "path = '/content/drive/'"
      ],
      "execution_count": null,
      "outputs": []
    },
    {
      "cell_type": "markdown",
      "metadata": {
        "id": "KsMPiVYv-bSw"
      },
      "source": [
        "# **Process video**"
      ]
    },
    {
      "cell_type": "markdown",
      "metadata": {
        "id": "s-htL-cr-0wv"
      },
      "source": [
        "##**Take 30 frames and turn into numpy array**"
      ]
    },
    {
      "cell_type": "code",
      "metadata": {
        "id": "clcxhJSF_CsZ"
      },
      "source": [
        "cap = cv2.VideoCapture('/content/drive/MyDrive/database/HockeyFights/fight/fi1_xvid.avi')\n",
        "total_frame = cap.get(cv2.CAP_PROP_FRAME_COUNT); print(f\"Total frame: {total_frame}\")\n",
        "fps = cap.get(cv2.CAP_PROP_FPS); print(f\"FPS: {fps}, type: {type(fps)}\")"
      ],
      "execution_count": null,
      "outputs": []
    },
    {
      "cell_type": "code",
      "metadata": {
        "id": "SIwizjLg-9Ju"
      },
      "source": [
        "def slice_video_1sec(file_dir, save_dir):\n",
        "    \"\"\"This function slice video files in file_dir directory by 1 second(30 frames).\n",
        "    Sliced video files are saved in save_dir directory.\n",
        "    :: file_dir :: Where original video files were saved.\n",
        "    :: save_dir :: Where the sliced video files will be saved in.\"\"\"\n",
        "    \n",
        "    file_list = os.listdir(file_dir) # Original video file list\n",
        "    countt = 0\n",
        "    video_count = 0;\n",
        "    for file in tqdm(file_list):\n",
        "        file_path = os.path.join(file_dir, file) # full path or original video file\n",
        "        \n",
        "        video_name = file.split('.')[0]\n",
        "        cap = cv2.VideoCapture(file_path)\n",
        "       \n",
        "        total_frame = cap.get(cv2.CAP_PROP_FRAME_COUNT) # Total frame of Video File\n",
        "        fps = 30.0#cap.get(cv2.CAP_PROP_FPS)\n",
        "        W = int(cap.get(cv2.CAP_PROP_FRAME_WIDTH))\n",
        "        H = int(cap.get(cv2.CAP_PROP_FRAME_HEIGHT))\n",
        "        \n",
        "        sliceno = 1\n",
        "        frame_count = 0\n",
        "        frame_arr = []\n",
        "        while cap.isOpened():\n",
        "            grabbed, frame = cap.read()\n",
        "            \n",
        "            if not grabbed : \n",
        "                #print('cap is not grabbed. Processing ends.')\n",
        "                break\n",
        "        \n",
        "            if int(int(total_frame)-int(frame_count)) == int(total_frame) % 30:\n",
        "                #print('The rest of video file is too small. Processing ends.')\n",
        "                #print(int(int(total_frame)-int(frame_count)))\n",
        "                break\n",
        "            \n",
        "            frame_arr.append(frame)\n",
        "            frame_count += 1\n",
        "            if len(frame_arr) >= 30:\n",
        "                #print(\"save\")\n",
        "                save_path = os.path.join(save_dir, video_name  +'_' + str(sliceno) + '.mp4' )\n",
        "                fourcc = cv2.VideoWriter_fourcc(*'DIVX')\n",
        "                writer = cv2.VideoWriter(save_path, fourcc, fps, (W, H), True)\n",
        "                for i in range(len(frame_arr)):\n",
        "                    writer.write(frame_arr[i])\n",
        "                writer.release()\n",
        "                sliceno += 1\n",
        "                frame_arr = []\n",
        "                video_count+=1\n",
        "        countt += 1\n",
        "        cap.release()\n",
        "    print(video_count)"
      ],
      "execution_count": null,
      "outputs": []
    },
    {
      "cell_type": "code",
      "metadata": {
        "id": "tF5YAVSXB36Z"
      },
      "source": [
        "file_dir_Violence = '/content/drive/MyDrive/database/Real Life Violence Dataset/Violence/'\n",
        "save_dir_Violence = '/content/drive/MyDrive/database/Violence_2/'\n",
        "slice_video_1sec(file_dir_Violence, save_dir_Violence)"
      ],
      "execution_count": null,
      "outputs": []
    },
    {
      "cell_type": "code",
      "metadata": {
        "id": "VA7hRjFiHCjz"
      },
      "source": [
        "file_dir_Violence = '/content/drive/MyDrive/database/Real Life Violence Dataset/NonViolence/'\n",
        "save_dir_Violence = '/content/drive/MyDrive/database/NonViolence_2/'\n",
        "slice_video_1sec(file_dir_Violence, save_dir_Violence)"
      ],
      "execution_count": null,
      "outputs": []
    },
    {
      "cell_type": "markdown",
      "metadata": {
        "id": "uqzuyCzAS9iK"
      },
      "source": [
        "##**Crop image and turn into numpy array**"
      ]
    },
    {
      "cell_type": "code",
      "metadata": {
        "id": "uSQuwjyfN7Cw"
      },
      "source": [
        "data_full = np.zeros((400, 30, 160, 160, 3), dtype = 'float16')\n",
        "label_full = [1]*200 + [0]*200"
      ],
      "execution_count": null,
      "outputs": []
    },
    {
      "cell_type": "code",
      "metadata": {
        "id": "KuMPrcWHNYrh"
      },
      "source": [
        "def make_small_data(file_dir, j_):\n",
        "    file_list = os.listdir(file_dir)[600:800]\n",
        "    l = len(file_list)\n",
        "    j = j_\n",
        "    for file_ in tqdm(file_list):\n",
        "        frames = np.zeros((30, 160, 160, 3), dtype = 'float16')\n",
        "        i = 0\n",
        "        cap = cv2.VideoCapture(os.path.join(file_dir, file_))\n",
        "        if cap.isOpened():\n",
        "            grabbed, frame = cap.read()\n",
        "        else:\n",
        "            grabbed = False\n",
        "            continue\n",
        "        frm = resize(frame,(160, 160, 3))\n",
        "        frm = np.expand_dims(frm,axis=0)\n",
        "        if(np.max(frm)>1):\n",
        "            frm = frm/255.0\n",
        "        frames[i][:] = frm\n",
        "        i += 1\n",
        "        while i < 30:\n",
        "            grabbed, frame = cap.read()\n",
        "            frm = resize(frame,(160, 160, 3))\n",
        "            frm = np.expand_dims(frm,axis=0)\n",
        "            if(np.max(frm)>1):\n",
        "                frm = frm/255.0\n",
        "            frames[i][:] = frm\n",
        "            i += 1\n",
        "        data_full[j][:] = frames \n",
        "        j += 1\n",
        "    return j"
      ],
      "execution_count": null,
      "outputs": []
    },
    {
      "cell_type": "code",
      "metadata": {
        "id": "bTKjSRMbTEKb"
      },
      "source": [
        "def make_data(file_dir_Violence1, file_dir_Violence2, file_dir_NonViolence1, file_dir_NonViolence2):\n",
        "    \"\"\"Transform your video files(each file have 30 frames) to (30, 160, 160, 3) numpy array.\n",
        "    And append them to video_array which is shaped (1, 30, 160, 160, 3)\"\"\"\n",
        "    j = 0\n",
        "    new_j = make_small_data(file_dir_Violence1,j)\n",
        "    j = new_j\n",
        "    #new_j = make_small_data(file_dir_Violence2,j)\n",
        "    #j = new_j\n",
        "    print(f\"all vio:{j}\")\n",
        "    new_j = make_small_data(file_dir_NonViolence1,j)\n",
        "    j = new_j\n",
        "    #new_j = make_small_data(file_dir_NonViolence2,j)\n",
        "    #j = new_j\n",
        "    print(f\"all vid:{j}\")\n",
        "    #return video_arrays, len(os.listdir(file_dir_Violence1) + os.listdir(file_dir_Violence2)), len(os.listdir(file_dir_NonViolence1) + os.listdir(file_dir_NonViolence2))"
      ],
      "execution_count": null,
      "outputs": []
    },
    {
      "cell_type": "markdown",
      "metadata": {
        "id": "eWpzuFQHTQOq"
      },
      "source": [
        "##**Make label**"
      ]
    },
    {
      "cell_type": "code",
      "metadata": {
        "id": "SnwRfnpJTTw3"
      },
      "source": [
        "def make_label(): #video_arrays, l_Violence, l_NonViolence\n",
        "    \"\"\"This function make label of video array.\n",
        "    :: video_arrays :: (None, 30, 160, 160, 3) numpy array.\n",
        "    :: violence :: True = [0, 1]. False = [1, 0]\"\"\"\n",
        "    #label_Violence = np.array([0, 1])\n",
        "    #label_NonViolence = np.array([1, 0])\n",
        "    \n",
        "    #label = np.zeros((video_arrays.shape[0], 2), dtype = 'float16')\n",
        "    #label = []\n",
        "    i = 0\n",
        "    label_full[:200][:] = 1\n",
        "    label_full[200:][:] = 0\n",
        "    #label[:l_Violence][:] = label_Violence #> ([0, 1])\n",
        "    #label[l_Violence:][:] = label_NonViolence #> ([1, 0])\n",
        "        \n",
        "    #return label #> (# of video files, 2)"
      ],
      "execution_count": null,
      "outputs": []
    },
    {
      "cell_type": "markdown",
      "metadata": {
        "id": "qNIUQ-jUT5Bo"
      },
      "source": [
        "##**Create dateset**"
      ]
    },
    {
      "cell_type": "code",
      "metadata": {
        "id": "XMd08HQDT8HQ"
      },
      "source": [
        "def create_dataset(save_filepath, file_dir_Violence,file_dir_Violence2, file_dir_NonViolence,file_dir_NonViolence2):\n",
        "    \"\"\"Create shuffled full datasets formatted .h5\n",
        "    :: file_dir_Violence :: The folder that violence video files were saved.\n",
        "    :: file_dir_NonViolence :: The folder that non-violence video files were saved.\n",
        "    :: filename :: .h5 formatted dataset file will be saved.\"\"\"\n",
        "    data_full, l_Violence, l_NonViolence = make_data(file_dir_Violence,file_dir_Violence2, file_dir_NonViolence,file_dir_NonViolence2)\n",
        "        \n",
        "    label_full = make_label(data_full, l_Violence, l_NonViolence)\n",
        "    #data_full,label_full = X_y_shuffle(data_full,label_full)\n",
        "    #i = 2\n",
        "    #with h5py.File(os.path.join(save_filepath,\"dataset_\" + str(i) + \".h5\"), 'w') as f:\n",
        "    #        f.create_dataset('data_full', data = data_full[230*i:230*(i+1)])\n",
        "    #        f.create_dataset('label_full', data = label_full[230*i:230*(i+1)])\n",
        "    #i = 5\n",
        "    #with h5py.File(os.path.join(save_filepath,\"dataset_\" + str(i) + \".h5\"), 'w') as f:\n",
        "    #        f.create_dataset('data_full', data = data_full[230*i:230*(i+1)])\n",
        "    #        f.create_dataset('label_full', data = label_full[230*i:230*(i+1)])\n",
        "    #for i in range(7):\n",
        "    #    with h5py.File(os.path.join(save_filepath,\"dataset_\" + str(i) + \".h5\"), 'w') as f:\n",
        "    #        f.create_dataset('data_full', data = data_full[230*i:230*(i+1)])\n",
        "    #        f.create_dataset('label_full', data = label_full[230*i:230*(i+1)])\n",
        "    with h5py.File(os.path.join(save_filepath,\"dataset\" + \".h5\"), 'w') as f:\n",
        "        f.create_dataset('data_full', data = data_full)\n",
        "        f.create_dataset('label_full', data = label_full)"
      ],
      "execution_count": null,
      "outputs": []
    },
    {
      "cell_type": "code",
      "metadata": {
        "id": "5FsYyBRTUF1W"
      },
      "source": [
        "filename = '/content/drive/MyDrive/database/' # file directory & name where you save your datasets\n",
        "file_dir_Violence = '/content/drive/MyDrive/database/Real Life Violence Dataset/Violence/'\n",
        "file_dir_Violence2 = ''\n",
        "file_dir_NonViolence = '/content/drive/MyDrive/database/Real Life Violence Dataset/NonViolence/'\n",
        "file_dir_NonViolence2 = ''"
      ],
      "execution_count": null,
      "outputs": []
    },
    {
      "cell_type": "code",
      "metadata": {
        "id": "gzhCCkLaQxO_"
      },
      "source": [
        "make_data(file_dir_Violence,file_dir_Violence2, file_dir_NonViolence,file_dir_NonViolence2)"
      ],
      "execution_count": null,
      "outputs": []
    },
    {
      "cell_type": "code",
      "metadata": {
        "id": "puTcjJAXVDRY"
      },
      "source": [
        "label_full"
      ],
      "execution_count": null,
      "outputs": []
    },
    {
      "cell_type": "code",
      "metadata": {
        "id": "1fUeL17MTXZh"
      },
      "source": [
        "with h5py.File(os.path.join(filename,\"val2_dataset\" + \".h5\"), 'w') as f:\n",
        "    f.create_dataset('data_full', data = data_full)\n",
        "    f.create_dataset('label_full', data = label_full)"
      ],
      "execution_count": null,
      "outputs": []
    },
    {
      "cell_type": "code",
      "metadata": {
        "id": "HuATIqveUPzg"
      },
      "source": [
        "create_dataset(filename, file_dir_Violence,file_dir_Violence2, file_dir_NonViolence,file_dir_NonViolence2)"
      ],
      "execution_count": null,
      "outputs": []
    },
    {
      "cell_type": "code",
      "metadata": {
        "id": "k7fZnF2lLEk4"
      },
      "source": [
        "! du -sh /content/drive/MyDrive/database/*"
      ],
      "execution_count": null,
      "outputs": []
    },
    {
      "cell_type": "markdown",
      "metadata": {
        "id": "UV-TbgZyqzEc"
      },
      "source": [
        "#**Shuffle data**"
      ]
    },
    {
      "cell_type": "code",
      "metadata": {
        "id": "qhV751BMq2iF"
      },
      "source": [
        "def X_y_shuffle(X, y):\n",
        "    \"\"\"This function shuffle two numpy arrays(data, label) at once with same order.\n",
        "    :: X :: Video frame img features numpy array.\n",
        "    :: y :: The label(target) of data. That shows violence True or False. \"\"\"\n",
        "    \n",
        "    indices = np.arange(X.shape[0])\n",
        "    np.random.shuffle(indices)\n",
        "    \n",
        "    X_shuffled = X[indices]\n",
        "    y_shuffled = y[indices]\n",
        "    \n",
        "    return X_shuffled, y_shuffled"
      ],
      "execution_count": null,
      "outputs": []
    },
    {
      "cell_type": "code",
      "metadata": {
        "id": "Hu4RizX6r5VK"
      },
      "source": [
        "file0 = h5py.File('/content/drive/MyDrive/database/dataset_3.h5', 'r')\n",
        "file7 = h5py.File('/content/drive/MyDrive/database/dataset_4.h5', 'r')\n",
        "data_full0 = file0['data_full'][:]\n",
        "data_full7 = file7['data_full'][:]\n",
        "label_full0 = file0['label_full'][:]\n",
        "label_full7 = file7['label_full'][:]\n",
        "print(len(label_full0))\n",
        "print(len(label_full7))\n",
        "print(label_full0[0].shape)"
      ],
      "execution_count": null,
      "outputs": []
    },
    {
      "cell_type": "code",
      "metadata": {
        "id": "sIDVBo5Vujz0"
      },
      "source": [
        "l = len(label_full0) + len(label_full7)\n",
        "data_full = np.zeros((l, 30, 160, 160, 3), dtype = 'float16')\n",
        "label_full = np.zeros((l, 2), dtype = 'float16')\n",
        "for i in range(len(label_full0)):\n",
        "    data_full[i][:] = data_full0[i]\n",
        "    label_full[i][:] = label_full0[i]\n",
        "for i in range(len(label_full7)):\n",
        "    data_full[len(label_full0) + i][:] = data_full7[i]\n",
        "    label_full[len(label_full0) + i][:] = label_full7[i]\n",
        "print(data_full.shape)"
      ],
      "execution_count": null,
      "outputs": []
    },
    {
      "cell_type": "code",
      "metadata": {
        "id": "u7WbfeHEvKfj"
      },
      "source": [
        "print(label_full[270])"
      ],
      "execution_count": null,
      "outputs": []
    },
    {
      "cell_type": "code",
      "metadata": {
        "id": "fcK_A54vuiua"
      },
      "source": [
        "data_full, label_full = X_y_shuffle(data_full, label_full)"
      ],
      "execution_count": null,
      "outputs": []
    },
    {
      "cell_type": "code",
      "metadata": {
        "id": "509FiMX_vd46"
      },
      "source": [
        "filename = '/content/drive/MyDrive/database/new_shuffled_3.h5'\n",
        "with h5py.File(filename, 'w') as f:\n",
        "    f.create_dataset('data_full', data = data_full[:230])\n",
        "    f.create_dataset('label_full', data = label_full[:230])\n",
        "    filename = '/content/drive/MyDrive/database/new_shuffled_4.h5'\n",
        "with h5py.File(filename, 'w') as f:\n",
        "    f.create_dataset('data_full', data = data_full[230:])\n",
        "    f.create_dataset('label_full', data = label_full[230:])"
      ],
      "execution_count": null,
      "outputs": []
    },
    {
      "cell_type": "markdown",
      "metadata": {
        "id": "DG_QAUt2QJVd"
      },
      "source": [
        "#**Cut the dataset down into 1Gb of size**"
      ]
    },
    {
      "cell_type": "code",
      "metadata": {
        "id": "b3IBrcEpQP0_"
      },
      "source": [
        "#file0 = h5py.File('/content/drive/MyDrive/database/shuffled_2.h5', 'r')\n",
        "#print(file0.keys())\n",
        "#data_full0 = file0['data_full'][:]\n",
        "#label_full0 = file0['label_full'][:]\n",
        "#filename = '/content/drive/MyDrive/database/new_shuffled_4.h5'\n",
        "#with h5py.File(filename, 'w') as f:\n",
        "#    f.create_dataset('data_full', data = data_full0[:230])\n",
        "#    f.create_dataset('label_full', data = label_full0[:230])\n",
        "#    filename = '/content/drive/MyDrive/database/new_shuffled_5.h5'\n",
        "#with h5py.File(filename, 'w') as f:\n",
        "#    f.create_dataset('data_full', data = data_full0[230:])\n",
        "#    f.create_dataset('label_full', data = label_full0[230:])"
      ],
      "execution_count": null,
      "outputs": []
    }
  ]
}