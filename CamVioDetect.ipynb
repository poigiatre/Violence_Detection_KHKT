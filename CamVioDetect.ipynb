{
  "nbformat": 4,
  "nbformat_minor": 0,
  "metadata": {
    "colab": {
      "name": "ResNet50_CamVioDetect.ipynb",
      "provenance": [],
      "collapsed_sections": []
    },
    "kernelspec": {
      "name": "python3",
      "display_name": "Python 3"
    },
    "language_info": {
      "name": "python"
    },
    "accelerator": "GPU"
  },
  "cells": [
    {
      "cell_type": "code",
      "metadata": {
        "id": "4ffcb9nda-87"
      },
      "source": [
        "import tensorflow as tf\n",
        "from tensorflow import keras\n",
        "import numpy as np\n",
        "import cv2\n",
        "import h5py"
      ],
      "execution_count": null,
      "outputs": []
    },
    {
      "cell_type": "code",
      "metadata": {
        "id": "icN1RcuhjOO3"
      },
      "source": [
        "gpu_devices = tf.config.list_physical_devices('GPU')\n",
        "for device in gpu_devices: tf.config.experimental.set_memory_growth(device, True)"
      ],
      "execution_count": null,
      "outputs": []
    },
    {
      "cell_type": "code",
      "metadata": {
        "id": "xBmNbDhIhjmQ"
      },
      "source": [
        "from sklearn.model_selection import train_test_split"
      ],
      "execution_count": null,
      "outputs": []
    },
    {
      "cell_type": "code",
      "metadata": {
        "id": "YNzU4GzVijNx"
      },
      "source": [
        "with h5py.File(\"/content/drive/MyDrive/database/nDataset1.h5\", 'r') as h5:\n",
        "    X = h5['X_train'][:]\n",
        "    y = h5['y_train'][:]\n",
        "print(X.shape)"
      ],
      "execution_count": null,
      "outputs": []
    },
    {
      "cell_type": "code",
      "metadata": {
        "id": "7tt36VLehleB"
      },
      "source": [
        "X_train, X_test, y_train, y_test = train_test_split(X, y, test_size=0.25, random_state=78)\n",
        "print(X_train.shape)\n",
        "print(X_test.shape)"
      ],
      "execution_count": null,
      "outputs": []
    },
    {
      "cell_type": "code",
      "metadata": {
        "id": "NqNuYOe4lR0m"
      },
      "source": [
        "X = None\n",
        "y = None"
      ],
      "execution_count": null,
      "outputs": []
    },
    {
      "cell_type": "code",
      "metadata": {
        "id": "ZgvU-pURo8Bl"
      },
      "source": [
        "utils = tf.keras.utils\n",
        "y_train = utils.to_categorical(y_train)\n",
        "y_test = utils.to_categorical(y_test)"
      ],
      "execution_count": null,
      "outputs": []
    },
    {
      "cell_type": "code",
      "metadata": {
        "id": "34B1951ab2Qj"
      },
      "source": [
        "def create_model():\n",
        "    np.random.seed(1233)\n",
        "    num_classes = 2\n",
        "    #base_model = keras.applications.resnet50.ResNet50(include_top=False, weights='imagenet', input_shape=(160, 160,3))\n",
        "    base_model = keras.applications.VGG19(include_top=False, weights='imagenet', input_shape=(160, 160,3))\n",
        "    for layer in base_model.layers:\n",
        "        layer.trainable = False\n",
        "    cnn = keras.models.Sequential()\n",
        "    cnn.add(base_model)\n",
        "    cnn.add(keras.layers.Flatten())\n",
        "    model = keras.models.Sequential()\n",
        "    timedistriLay = keras.layers.TimeDistributed(cnn,  input_shape=(30, 160, 160, 3))\n",
        "    model.add(timedistriLay)\n",
        "    model.add(keras.layers.LSTM(30 , return_sequences= True))\n",
        "    model.add(keras.layers.TimeDistributed(keras.layers.Dense(90)))\n",
        "    model.add(keras.layers.Dropout(0.1))\n",
        "    model.add(keras.layers.GlobalAveragePooling1D())\n",
        "    #model.add(keras.layers.Dense(1024, activation='gelu'))\n",
        "    #model.add(keras.layers.Dropout(0.3))\n",
        "    model.add(keras.layers.Dense(512, activation='gelu'))\n",
        "    model.add(keras.layers.Dropout(0.3))\n",
        "    model.add(keras.layers.Dense(num_classes, activation=\"sigmoid\"))\n",
        "    adam = keras.optimizers.Adam(learning_rate=0.00005, beta_1=0.9, beta_2=0.999, epsilon=1e-08)\n",
        "    #model.load_weights('/content/drive/MyDrive/Trained Model/VGG19_3.hdf5')\n",
        "    rms = keras.optimizers.RMSprop()\n",
        "    model.compile(loss='binary_crossentropy', optimizer=adam, metrics=[\"accuracy\"])\n",
        "    return model"
      ],
      "execution_count": null,
      "outputs": []
    },
    {
      "cell_type": "code",
      "metadata": {
        "id": "nIIZ6sMseJa7"
      },
      "source": [
        "t_model = create_model()"
      ],
      "execution_count": null,
      "outputs": []
    },
    {
      "cell_type": "code",
      "source": [
        "t_model.summary()"
      ],
      "metadata": {
        "id": "2_hK34mbcSM6"
      },
      "execution_count": null,
      "outputs": []
    },
    {
      "cell_type": "code",
      "metadata": {
        "id": "vuytsUTQee6B"
      },
      "source": [
        "keras.utils.plot_model(t_model, show_shapes=True)"
      ],
      "execution_count": null,
      "outputs": []
    },
    {
      "cell_type": "code",
      "metadata": {
        "id": "a71g7oM42fZ_"
      },
      "source": [
        "callbacks = tf.keras.callbacks"
      ],
      "execution_count": null,
      "outputs": []
    },
    {
      "cell_type": "code",
      "metadata": {
        "id": "l2TEpTEQfSZY"
      },
      "source": [
        "class AccuracyHistory(callbacks.Callback):\n",
        "    def on_train_begin(self, logs={}):\n",
        "        self.acc = []\n",
        "        self.val_acc = []\n",
        "        self.loss = []\n",
        "        self.val_loss = []\n",
        "\n",
        "    def on_epoch_end(self, batch, logs={}):\n",
        "        self.acc.append(logs.get('acc'))\n",
        "        self.val_acc.append(logs.get('val_acc'))\n",
        "        self.loss.append(logs.get('loss'))\n",
        "        self.val_loss.append(logs.get('val_loss'))\n",
        "\n",
        "history = AccuracyHistory()\n",
        "earlyStopping = callbacks.EarlyStopping(monitor='val_loss', patience=8,min_delta=1e-5, verbose=0, mode='min')\n",
        "mcp_save = callbacks.ModelCheckpoint('VGG19_1.hdf5', save_best_only=True, monitor='val_loss', mode='min')\n",
        "reduce_lr_loss = callbacks.ReduceLROnPlateau(monitor='val_loss',patience=1, verbose=2,factor=0.5,min_lr=0.00000001)"
      ],
      "execution_count": null,
      "outputs": []
    },
    {
      "cell_type": "code",
      "metadata": {
        "id": "Xy7rXKtrgI6x"
      },
      "source": [
        "batch_size = 3\n",
        "epochs = 5"
      ],
      "execution_count": null,
      "outputs": []
    },
    {
      "cell_type": "code",
      "metadata": {
        "id": "sLB5MfJvgPbI"
      },
      "source": [
        "import time\n",
        "millis = int(round(time.time() * 1000))\n",
        "print(\"started at \" , millis)\n",
        "\n",
        "t_model.fit(X_train, y_train,\n",
        "          batch_size=batch_size,\n",
        "          epochs=epochs,\n",
        "          verbose=1,\n",
        "          validation_data=(X_test, y_test),callbacks=[earlyStopping, mcp_save, reduce_lr_loss, history])"
      ],
      "execution_count": null,
      "outputs": []
    },
    {
      "cell_type": "code",
      "source": [
        "t_model.save_weights('/content/drive/MyDrive/Trained Model/VGG19_4.hdf5')"
      ],
      "metadata": {
        "id": "0DdNI_QiKkT9"
      },
      "execution_count": null,
      "outputs": []
    },
    {
      "cell_type": "code",
      "source": [
        "import matplotlib.pyplot as plt\n",
        "acc = history.acc\n",
        "val_acc = history.val_acc\n",
        "loss = history.loss\n",
        "val_loss = history.val_loss\n",
        "epochs = range(len(acc))\n",
        "\n",
        "plt.plot(epochs, acc, 'b', label='Training acc')\n",
        "plt.plot(epochs, val_acc, 'r', label='Validation acc')\n",
        "plt.title('Training and validation accuracy')\n",
        "plt.legend()\n",
        " \n",
        "plt.figure()\n",
        "\n",
        "plt.plot(epochs, loss, 'b', label='Training loss')\n",
        "plt.plot(epochs, val_loss, 'r', label='Validation loss')\n",
        "plt.title('Training and validation loss')\n",
        "plt.legend()\n",
        " \n",
        "plt.show()"
      ],
      "metadata": {
        "id": "kuN4PXXulocd"
      },
      "execution_count": null,
      "outputs": []
    }
  ]
}